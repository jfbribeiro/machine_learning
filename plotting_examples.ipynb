{
 "cells": [
  {
   "cell_type": "code",
   "execution_count": null,
   "metadata": {},
   "outputs": [],
   "source": [
    "scores.loc[scores.model == 'boosted_tree_after_gs', ['model', 'mean', 'sd', 'config']]"
   ]
  },
  {
   "cell_type": "code",
   "execution_count": null,
   "metadata": {},
   "outputs": [],
   "source": [
    "scores_piv = scores.pivot(index=['index', 'model'], values=['mean'], columns='config')\n",
    "scores_piv"
   ]
  },
  {
   "cell_type": "code",
   "execution_count": null,
   "metadata": {},
   "outputs": [],
   "source": [
    "mapping = {}\n",
    "for model in tmp.model: \n",
    "    if 'bayes' in model:\n",
    "        mapping[model] = 'bayes'\n",
    "    elif 'knn' in model: \n",
    "        mapping[model] = 'knn'\n",
    "    elif 'regression' in model: \n",
    "        mapping[model] = 'lr'\n",
    "    elif 'svc' in model: \n",
    "        mapping[model] = 'svc'\n",
    "    elif 'mlp' in model: \n",
    "        mapping[model] = 'mlp'\n",
    "    elif 'ensemble' in model: \n",
    "        mapping[model] = 'ensemble'\n",
    "    elif 'stacking' in model: \n",
    "        mapping[model] = 'stacking'\n",
    "    else:\n",
    "        mapping[model] = 'tree'\n",
    "\n",
    "\n",
    "pd.Series(mapping).reset_index()\n",
    "pd.DataFrame(mapping, columns=['a', 'v']) \n",
    "mapping_df = pd.DataFrame([(k,v) for k,v in mapping.items()], columns=['model', 'group'])\n",
    "mapping_df.groupby('group').size()\n"
   ]
  },
  {
   "cell_type": "code",
   "execution_count": null,
   "metadata": {},
   "outputs": [],
   "source": [
    "mapping = []\n",
    "for model in tmp.model: \n",
    "    if 'bayes' in model:\n",
    "        mapping.append((model, 'bayes', 0))\n",
    "    elif 'knn' in model: \n",
    "        mapping.append((model, 'knn', 1))\n",
    "    elif 'regression' in model: \n",
    "        mapping.append((model, 'lr', 2))\n",
    "    elif 'svc' in model: \n",
    "        mapping.append((model, 'svc', 3))\n",
    "    elif 'mlp' in model: \n",
    "        mapping.append((model, 'mlp', 5))\n",
    "    elif 'ensemble' in model: \n",
    "        mapping.append((model, 'ensemble', 6))\n",
    "    elif 'stacking' in model: \n",
    "        mapping.append((model, 'stacking', 7))\n",
    "    else:\n",
    "        mapping.append((model, 'tree', 4))\n",
    "mapping_df = pd.DataFrame(mapping, columns=['model', 'group', 'order'])\n",
    "groups = mapping_df.groupby(['group', 'order']).size().reset_index().sort_values('order').rename(columns={0:'gr_count'})\n",
    "groups"
   ]
  },
  {
   "cell_type": "code",
   "execution_count": null,
   "metadata": {},
   "outputs": [],
   "source": [
    "scores_gr = scores.merge(mapping_df, how='left', on='model')\n",
    "groups"
   ]
  },
  {
   "cell_type": "code",
   "execution_count": null,
   "metadata": {},
   "outputs": [],
   "source": [
    "\n",
    "fig, ax = plt.subplots(ncols = len(groups), gridspec_kw={'width_ratios': groups.gr_count}) #, figsize=(20,7)\n",
    "for i, gr in enumerate(groups.group): \n",
    "    #sns.pointplot(data=scores_gr[scores_gr.group == gr], x='model', y='mean', hue='config', alpha=.7, dodge=.4, join=False, scale=.5, ax=ax[i])\n",
    "\n",
    "    sns.barplot(data=scores_gr[scores_gr.group == gr], x='model', y='mean', hue='config')\n",
    "    #sns.barplot(data=a, x=base_col, y=col, hue='Income', ax=ax[i])#.set_title(col) # [0:10]\n",
    "    #ax[i].tick_params(labelrotation=45)"
   ]
  },
  {
   "cell_type": "code",
   "execution_count": null,
   "metadata": {},
   "outputs": [],
   "source": [
    "pd.DataFrame([(k,v) for k,v in mapping.items()], columns=['model', 'group'])"
   ]
  },
  {
   "cell_type": "code",
   "execution_count": null,
   "metadata": {},
   "outputs": [],
   "source": [
    "my_dpi = 200\n",
    "fig, ax = plt.subplots(\n",
    "    figsize=(\n",
    "        #10, 8\n",
    "        1200/my_dpi, 1400/my_dpi\n",
    "    )\n",
    ") \n",
    "\n",
    "#fig, ax = plt.subplots() # figsize=(15,5)\n",
    "\n",
    "sns.scatterplot(data=scores, x=['model', 'group'], y='mean', hue='config', ax=ax, alpha=.7)\n",
    "plt.legend(bbox_to_anchor=(0., 1.02, 1., .102), loc='lower left',\n",
    "           ncol=1, mode=\"expand\", borderaxespad=0., prop={'size': 6})\n",
    "ax.tick_params(labelrotation=90)\n",
    "plt.errorbar(data=scores_gr, x = 'model', y = 'mean',\n",
    "            yerr='sd', fmt='none', c= 'black', capsize = 2)\n",
    "plt.tight_layout()\n",
    "\n",
    "plt.savefig(os.path.join(explorations_path, 'comp_3.png'), dpi=200)\n",
    "plt.show()"
   ]
  },
  {
   "cell_type": "code",
   "execution_count": null,
   "metadata": {},
   "outputs": [],
   "source": [
    "sns.pointplot(data=scores, x='model', y='mean', hue='config', alpha=.7, dodge=.5, join=False, scale=.5)\n",
    "plt.errorbar(data=scores, x = 'model', y = 'mean',\n",
    "            yerr='sd', fmt='none', c= 'black', capsize = 2)\n",
    "plt.legend(bbox_to_anchor=(0., 1.02, 1., .102), loc='lower left',\n",
    "           ncol=1, mode=\"expand\", borderaxespad=0., prop={'size': 6})\n",
    "plt.tight_layout()\n",
    "plt.xticks(rotation=90)\n",
    "\n",
    "plt.show()\n",
    "\n"
   ]
  },
  {
   "cell_type": "code",
   "execution_count": null,
   "metadata": {},
   "outputs": [],
   "source": [
    "my_dpi = 200\n",
    "fig = plt.figure(\n",
    "    figsize=(\n",
    "        #10, 8\n",
    "        1200/my_dpi, 1400/my_dpi\n",
    "    )\n",
    ")\n",
    "ax = sns.pointplot(data=scores_gr, x='model', y='mean', hue='config', alpha=.7, dodge=.4, join=False, scale=.5)\n",
    "\n",
    "# Find the x,y coordinates for each point\n",
    "x_coords = []\n",
    "y_coords = []\n",
    "for point_pair in ax.collections:\n",
    "    for x, y in point_pair.get_offsets():\n",
    "        x_coords.append(x)\n",
    "        y_coords.append(y)\n",
    "\n",
    "# Calculate the type of error to plot as the error bars\n",
    "# Make sure the order is the same as the points were looped over\n",
    "#errors = tips.groupby(['smoker', 'sex']).std()['tip']\n",
    "#colors = ['steelblue']*2 + ['coral']*2\n",
    "ax.errorbar(x_coords, y_coords, yerr=scores.sd, fmt=' ', zorder=-1, color='black', capsize=2)\n",
    "\n",
    "plt.legend(bbox_to_anchor=(0., 1.02, 1., .102), loc='lower left',\n",
    "           ncol=1, mode=\"expand\", borderaxespad=0., prop={'size': 6})\n",
    "plt.tight_layout()\n",
    "plt.xticks(rotation=90)\n",
    "\n",
    "plt.savefig(os.path.join(explorations_path, 'comp_4.png'), dpi=200, bbox_inches = \"tight\")\n",
    "\n",
    "\n",
    "plt.show()"
   ]
  },
  {
   "cell_type": "code",
   "execution_count": null,
   "metadata": {},
   "outputs": [],
   "source": []
  },
  {
   "cell_type": "code",
   "execution_count": null,
   "metadata": {},
   "outputs": [],
   "source": [
    "plt.errorbar(data=scores, x = 'model', y = 'mean',\n",
    "            yerr='sd', fmt='none', c= 'black', capsize = 2)"
   ]
  },
  {
   "cell_type": "code",
   "execution_count": null,
   "metadata": {},
   "outputs": [],
   "source": [
    "fig, ax = plt.subplots(figsize=(15,5))\n",
    "sns.catplot(data=scores, x='model', y='mean', hue='config', ax=ax )\n",
    "plt.legend(bbox_to_anchor=(0., 1.02, 1., .102), loc='lower left',\n",
    "           ncol=1, mode=\"expand\", borderaxespad=0., prop={'size': 6})\n",
    "#ax.tick_params(labelrotation=90)\n"
   ]
  },
  {
   "cell_type": "code",
   "execution_count": null,
   "metadata": {},
   "outputs": [],
   "source": [
    "\n",
    "g = sns.catplot(data=scores, x='model', y='mean', hue='config', legend=False, kind='point')\n",
    "plt.legend(bbox_to_anchor=(0., 1.02, 1., .102), loc='lower left',\n",
    "           ncol=1, mode=\"expand\", borderaxespad=0., prop={'size': 6})\n",
    "plt.errorbar(data=scores, x = 'model', y = 'mean',\n",
    "            yerr='sd', fmt='none', c= 'black', capsize = 2)\n",
    "g.set_xticklabels(rotation=90)\n",
    "\n",
    "plt.savefig(os.path.join(explorations_path, 'comp.png'), dpi=200)\n"
   ]
  }
 ],
 "metadata": {
  "kernelspec": {
   "display_name": "Python 3",
   "language": "python",
   "name": "python3"
  },
  "language_info": {
   "codemirror_mode": {
    "name": "ipython",
    "version": 3
   },
   "file_extension": ".py",
   "mimetype": "text/x-python",
   "name": "python",
   "nbconvert_exporter": "python",
   "pygments_lexer": "ipython3",
   "version": "3.8.5"
  }
 },
 "nbformat": 4,
 "nbformat_minor": 4
}
